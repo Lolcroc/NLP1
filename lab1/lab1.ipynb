{
 "cells": [
  {
   "cell_type": "code",
   "execution_count": 1,
   "metadata": {
    "collapsed": true
   },
   "outputs": [],
   "source": [
    "%matplotlib inline\n",
    "import matplotlib\n",
    "import numpy as np\n",
    "import matplotlib.pyplot as plt\n",
    "from itertools import chain\n",
    "from collections import Counter"
   ]
  },
  {
   "cell_type": "markdown",
   "metadata": {},
   "source": [
    "# Lab 1: Text Corpora and Language Modelling\n",
    "\n",
    "This lab is meant to help you get familiar with some language data, and use this data to estimate N-gram language models\n",
    "\n",
    "First you will use the **Penn Treebank**, which is a collection of newspaper articles from the newspaper \n",
    "The Wall Street Journal. The idea is to examine the data and notice interesting properties. This will not take more than a few lines of code.\n",
    "\n",
    "Then you will use a corpus consisting of **TedX** talks. This you will use to estimate an **N-gram language model** for different orders of N, and use this this for some tasks.\n",
    "\n",
    "The datasets are on blackboard under course materials. Download the zip and make sure to put the files in the same directory as the notebook.\n",
    "\n",
    "### Rules\n",
    "* The lab exercises should be made in **groups of two people**.\n",
    "\n",
    "* The deadline is **Tuesday 7 nov 16:59**.\n",
    "\n",
    "* The assignment should submitted to **Blackboard** as `.ipynb`. Only **one submission per group**.\n",
    "\n",
    "* The **filename** should be `lab1_lastname1_lastname2.ipynb`, so for example `lab1_Jurafsky_Martin.ipynb`.\n",
    "\n",
    "* The notebook is graded on a scale of **0-10**. The number of points for each question is indicated in parantheses. \n",
    "\n",
    "* The questions marked **optional** are not graded; they are an additional challenge for those interested in going the extra mile. \n",
    "\n",
    "Notes on implementation:\n",
    "\n",
    "* You should **write your code and answers in this iPython Notebook** (see http://ipython.org/notebook.html for reference material). If you have problems, please contact your teaching assistant.\n",
    "\n",
    "* Use only **one cell for code** and **one cell for markdown** answers!    \n",
    "\n",
    "    * Put all code in the cell with the `# YOUR CODE HERE` comment.\n",
    "    \n",
    "    * For theoretical question, put your solution in the YOUR ANSWER HERE cell.\n",
    "    \n",
    "* Test your code and **make sure we can run your notebook**"
   ]
  },
  {
   "cell_type": "markdown",
   "metadata": {},
   "source": [
    "# 1. Penn treebank\n",
    "\n",
    "## Exercise 1.1 (40 points, 5 points per subquestion )\n",
    "\n",
    "You are provided with a corpus containing words with their Part-of-Speech tags (POS-tags for short). The format is\n",
    "**word|POS** (one sentence per line) and the file name is **sec02-22.gold.tagged**. This data is extracted from Sections 02-22 from the Penn Treebank: these sections are most commonly used for training statistical models like POS-taggers and parsers.\n",
    "\n",
    "**[Hint]** **Figure 10.1** in chapter 10 of Jurafsky and Martin (see [here](https://web.stanford.edu/~jurafsky/slp3/10.pdf)) holds a summary of the 45 POS-tags used in the Penn Treebank tagset together with their meaning and some examples. (If you are keen on learning more about the word-classes represented POS-tags and their definitions you can do a litle reading ahead for next week and already have a look at section 10.1 of the same chapter).\n",
    "\n",
    "**[Hint]** the Python library [collections](https://docs.python.org/2/library/collections.html) has an object called `Counter` which will come in handy for this exercise."
   ]
  },
  {
   "cell_type": "markdown",
   "metadata": {},
   "source": [
    " "
   ]
  },
  {
   "cell_type": "markdown",
   "metadata": {},
   "source": [
    "**(a)** How large is the corpus? (i.e. how **many tokens**). And what is the size of the **vocabulary** used in this corpus? \n",
    "\n",
    "Estimate the vocabulary size both by **lowercasing** all the words as well as by leaving the words in their **original orthography**. What is an advantage of lowercasing all the words in your corpus? What is a notable downside? **Give examples.**"
   ]
  },
  {
   "cell_type": "code",
   "execution_count": 81,
   "metadata": {},
   "outputs": [
    {
     "name": "stdout",
     "output_type": "stream",
     "text": [
      "['Dreyfus', 'moved', 'to', 'the', '$', '1', 'price', 'after', 'the', 'SEC', 'set', 'standards', '--', 'an', 'average', '120-day', 'maturity', 'of', 'high-grade', 'paper', '--', 'that', 'are', 'still', 'the', 'rule', '.', '\\n']\n",
      "The amount of tokens: 929552\n",
      "Vocabulary size of the corpus is : 44210\n",
      "Vocabulary size of the lowercase corpus is : 39384\n"
     ]
    }
   ],
   "source": [
    "## YOUR CODE HERE ##\n",
    "voc = Counter()\n",
    "voc_lower = Counter()\n",
    "pos_tags = Counter()\n",
    "\n",
    "with open(\"sec02-21.gold.tagged\", \"r\") as corpus:\n",
    "    for line in corpus:\n",
    "        words = line.split(\" \")\n",
    "        for w in words:\n",
    "            split_w = w.split(\"|\")\n",
    "            voc[split_w[0]] += 1\n",
    "            voc_lower[split_w[0].lower()] += 1\n",
    "            if split_w[0] != \"\\n\":\n",
    "                pos_tags[split_w[1]] += 1\n",
    "                \n",
    "del voc[\"\\n\"]\n",
    "del voc_lower[\"\\n\"]\n",
    "\n",
    "tag_word = dict()\n",
    "word_tag = dict()\n",
    "\n",
    "for p in pos_tags:\n",
    "    tag_word[p] = Counter()\n",
    "\n",
    "with open(\"sec02-21.gold.tagged\", \"r\") as corpus:\n",
    "    for line in corpus:\n",
    "        words = line.split(\" \")\n",
    "        for w in words:\n",
    "            split_w = w.split(\"|\")\n",
    "            if split_w[0] != \"\\n\":\n",
    "                tag_word[split_w[1]][split_w[0]] += 1\n",
    "                if split_w[0] in word_tag:\n",
    "                    word_tag[split_w[0]].add(split_w[1])\n",
    "                else:\n",
    "                    word_tag[split_w[0]] = {split_w[1]}\n",
    "\n",
    "    \n",
    "print(\"The amount of tokens:\", sum(voc.values()))\n",
    "print(\"Vocabulary size of the corpus is :\", len(voc))\n",
    "print(\"Vocabulary size of the lowercase corpus is :\", len(voc_lower))\n",
    "\n",
    "#print(voc)"
   ]
  },
  {
   "cell_type": "markdown",
   "metadata": {},
   "source": [
    "Advantage: lowercasing can give a better estimate for a (large) more general corpus, in which a large fraction of words appear both in uppercase (e.g. at the beginning of a sentence) and lowercase form. Ex. *The quick brown fox jumped over the lazy dog.* Even though 'the' appears twice here, an uppercase corpus treats 'The' and 'the' as different words.\n",
    "\n",
    "Disadvantage: we lose the capitalization orthography of the language system. Some words, such as names (Peter) or the pronoun 'I', should *always* be capitalized."
   ]
  },
  {
   "cell_type": "markdown",
   "metadata": {},
   "source": [
    "------\n",
    "For the rest of this exercise you should use the **original orthography** of the data when answering the questions.\n",
    "\n",
    "------\n"
   ]
  },
  {
   "cell_type": "markdown",
   "metadata": {},
   "source": [
    "**(b)** Plot a graph of word frequency versus rank of a word, in this corpus. Does this corpus obey **Zipf’s law**?"
   ]
  },
  {
   "cell_type": "code",
   "execution_count": 16,
   "metadata": {
    "scrolled": true
   },
   "outputs": [
    {
     "data": {
      "image/png": "[encoded data removed]",
      "text/plain": [
       "<matplotlib.figure.Figure at 0x192c7c18>"
      ]
     },
     "metadata": {},
     "output_type": "display_data"
    },
    {
     "name": "stdout",
     "output_type": "stream",
     "text": [
      "This corpus seems to obey Zipf's law, when plotted on a logartihmic scale.\n"
     ]
    }
   ],
   "source": [
    "## YOUR CODE HERE ##\n",
    "    \n",
    "plt.loglog(range(len(voc)), [int(i[1]) for i in voc.most_common()])\n",
    "plt.xlabel('Word frequency')\n",
    "plt.ylabel('Rank of the word')\n",
    "\n",
    "plt.show()\n",
    "\n",
    "print(\"This corpus seems to obey Zipf's law, when plotted on a logartihmic scale.\")"
   ]
  },
  {
   "cell_type": "markdown",
   "metadata": {},
   "source": [
    "**(c)** What are the **20 most common words** in the corpus and how often do they occur? What is the 50th most common word, the 100th and the 1000th and how often do they occur?"
   ]
  },
  {
   "cell_type": "code",
   "execution_count": 68,
   "metadata": {},
   "outputs": [
    {
     "name": "stdout",
     "output_type": "stream",
     "text": [
      "Most common:\n",
      " 1: ,     48310\n",
      " 2: the   40839\n",
      " 3: .     38798\n",
      " 4: of    22782\n",
      " 5: to    22056\n",
      " 6: a     19171\n",
      " 7: and   15906\n",
      " 8: in    15085\n",
      " 9: 's    9249\n",
      "10: that  7951\n",
      "11: for   7912\n",
      "12: $     7125\n",
      "13: is    6893\n",
      "14: The   6791\n",
      "15: said  5597\n",
      "16: on    5112\n",
      "17: %     4871\n",
      "18: it    4639\n",
      "19: by    4450\n",
      "20: from  4437\n",
      "\n",
      "The 50th, 100th and 1000th most common words:\n",
      "  50: had     1755\n",
      " 100: A       860\n",
      "1000: simply  109\n"
     ]
    }
   ],
   "source": [
    "## YOUR CODE HERE ##\n",
    "print('Most common:')\n",
    "for i, (k, v) in enumerate(voc.most_common(20)):\n",
    "    print(\"{0:>2}: {1:<5} {2:}\".format(i+1, k, v))\n",
    "\n",
    "pos = (50, 100, 1000)\n",
    "commons = voc.most_common(pos[-1])\n",
    "print('\\nThe {0}th, {1}th and {2}th most common words:'.format(*pos))\n",
    "for p in pos:\n",
    "    print(\"{0:>4}: {1:<7} {2:}\".format(p, *commons[p-1]))"
   ]
  },
  {
   "cell_type": "markdown",
   "metadata": {},
   "source": [
    "**(d)** How many different Part-of-speech tags are present in the corpus?"
   ]
  },
  {
   "cell_type": "code",
   "execution_count": 69,
   "metadata": {
    "scrolled": true
   },
   "outputs": [
    {
     "name": "stdout",
     "output_type": "stream",
     "text": [
      "Number of part-of-speech tags: 48\n"
     ]
    }
   ],
   "source": [
    "## YOUR CODE HERE ##\n",
    "print(\"Number of part-of-speech tags:\",len(pos_tags))\n",
    "#print(sorted([p for p in pos_tags]))"
   ]
  },
  {
   "cell_type": "markdown",
   "metadata": {},
   "source": [
    "**(e)** Print a list of the **10 most commonly occurring POS tags** in the data. For each of these POS tags, what are the **3 most common words** that belong to that class?"
   ]
  },
  {
   "cell_type": "code",
   "execution_count": 70,
   "metadata": {},
   "outputs": [
    {
     "name": "stdout",
     "output_type": "stream",
     "text": [
      "NN : [('%', 4866), ('company', 2457), ('year', 2220)]\n",
      "IN : [('of', 22778), ('in', 14852), ('for', 7907)]\n",
      "NNP : [('Mr.', 4147), ('U.S.', 1577), ('Corp.', 1186)]\n",
      "DT : [('the', 40831), ('a', 19151), ('The', 6753)]\n",
      "JJ : [('new', 1396), ('other', 1298), ('last', 990)]\n",
      "NNS : [('years', 1164), ('shares', 1128), ('sales', 939)]\n",
      ", : [(',', 48310), ('2', 1), ('section', 1)]\n",
      ". : [('.', 38798), ('?', 392), ('!', 62)]\n",
      "CD : [('million', 4355), ('billion', 1780), ('one', 1203)]\n",
      "RB : [(\"n't\", 3211), ('also', 1420), ('not', 1287)]\n"
     ]
    }
   ],
   "source": [
    "## YOUR CODE HERE ##\n",
    "tenmost = pos_tags.most_common(10)\n",
    "\n",
    "for t in tenmost:\n",
    "    print(t[0], \":\", tag_word[t[0]].most_common(3))"
   ]
  },
  {
   "cell_type": "markdown",
   "metadata": {},
   "source": [
    "**(f)** A single word may have several POS-tags. For example, *record* can be a both a **noun** *(buy a record)* or a **verb** *(record a lecture)*. This make POS-tags extremely useful for **disambiguation**.\n",
    "\n",
    "What percentage of the words in the vocabulary is **ambiguous**? (i.e. have more than one POS tag?) What are the 10 most frequent combinations of POS tags in the case of ambitguity? Which words are **most ambiguous**? Give some of them."
   ]
  },
  {
   "cell_type": "code",
   "execution_count": 71,
   "metadata": {
    "scrolled": true
   },
   "outputs": [
    {
     "name": "stdout",
     "output_type": "stream",
     "text": [
      "13.469803211942999 percent of the words in the vocabulary are ambiguous.\n",
      "Ten most frequent combinations of POS tags are: [(('VBD', 'VBN'), 772), (('JJ', 'NN'), 662), (('NNP', 'NN'), 549), (('VB', 'VBP'), 375), (('VBZ', 'NNS'), 355), (('VB', 'NN'), 351), (('NN', 'VBG'), 315), (('VB', 'VBP', 'NN'), 233), (('JJ', 'VBN'), 181), (('NNP', 'JJ'), 135)]\n",
      "10 most ambiguous words are:\n",
      "many\n",
      "open\n",
      "set\n",
      "down\n",
      "put\n",
      "point\n",
      "hurt\n",
      "in\n",
      "bet\n",
      "back\n"
     ]
    }
   ],
   "source": [
    "## YOUR CODE HERE ##\n",
    "percent = 0\n",
    "\n",
    "for w in word_tag.copy():\n",
    "    if len(word_tag[w]) > 1:\n",
    "        percent += 1\n",
    "    else:\n",
    "        del word_tag[w]\n",
    "         \n",
    "percent = (percent / len(voc)) * 100\n",
    "print(percent, \"percent of the words in the vocabulary are ambiguous.\")\n",
    "    \n",
    "tag_combs = Counter(tuple(word_tag[w]) for w in word_tag)\n",
    "print(\"Ten most frequent combinations of POS tags are:\",tag_combs.most_common(10))\n",
    "\n",
    "sorted_dict = sorted(word_tag, key=lambda k: len(word_tag[k]), reverse=True)\n",
    "\n",
    "print(\"10 most ambiguous words are:\")\n",
    "for d in range(10):\n",
    "    #print(sorted_dict[d], word_tag[sorted_dict[d]])\n",
    "    print(sorted_dict[d])"
   ]
  },
  {
   "cell_type": "markdown",
   "metadata": {},
   "source": [
    "**(g)**  Print some of these words with their multiple POS-tags. Do you **understand the ambiguity**? Use figure 10.1 mentioned above to interpret the POS-tags."
   ]
  },
  {
   "cell_type": "code",
   "execution_count": 83,
   "metadata": {},
   "outputs": [
    {
     "name": "stdout",
     "output_type": "stream",
     "text": [
      "10 most ambiguous words are:\n",
      "many {'VB', 'PDT', 'DT', 'RB', 'NP', 'JJ', 'NN'}\n",
      "open {'VB', 'VBZ', 'RP', 'RB', 'JJ', 'VBP', 'NN'}\n",
      "set {'VB', 'JJ', 'VBZ', 'NN', 'VBD', 'VBP', 'VBN'}\n",
      "down {'RBR', 'RP', 'RB', 'IN', 'JJ', 'VBP', 'NN'}\n",
      "put {'VB', 'NN', 'JJ', 'VBP', 'VBN', 'VBD'}\n",
      "point {'VB', 'VBZ', 'VBN', 'JJ', 'VBP', 'NN'}\n",
      "hurt {'VB', 'NN', 'JJ', 'VBP', 'VBN', 'VBD'}\n",
      "in {'RBR', 'CC', 'IN', 'RB', 'RP', 'FW'}\n",
      "bet {'VB', 'VBN', 'RB', 'VBD', 'VBP', 'NN'}\n",
      "back {'VB', 'RP', 'RB', 'JJ', 'VBP', 'NN'}\n",
      "\n",
      "Take e.g. the word set. We can have e.g. 'a large set of numbers', a set time', 'I set the clock', 'I have set the clock', ...\n"
     ]
    }
   ],
   "source": [
    "## YOUR CODE HERE ##\n",
    "print(\"10 most ambiguous words are:\")\n",
    "for d in range(10):\n",
    "    print(sorted_dict[d], word_tag[sorted_dict[d]])\n",
    "    \n",
    "print(\"\\nTake e.g. the word set. We can have e.g. 'a large set of numbers', a set time', 'I set the clock', 'I have set the clock', ...\")\n",
    "\n"
   ]
  },
  {
   "cell_type": "markdown",
   "metadata": {},
   "source": [
    "**(h)** Ambiguous words do not account for a great percentage of the vocabulary. Yet they are among the most commonly occuring words of the English language. What **percentage of the dataset is ambiguous**?"
   ]
  },
  {
   "cell_type": "code",
   "execution_count": null,
   "metadata": {
    "collapsed": true
   },
   "outputs": [],
   "source": [
    "## YOUR CODE HERE ##\n",
    "amb_percent = 100 * (sum(voc[word] for word in word_tag) / sum(voc.values()))\n",
    "print(amb_percent,\"percent of the words in the corpus are ambiguous.\")"
   ]
  },
  {
   "cell_type": "markdown",
   "metadata": {},
   "source": [
    "## Exercise 1.2 (10 points, 5 per subquestion)"
   ]
  },
  {
   "cell_type": "markdown",
   "metadata": {},
   "source": [
    "You are also provided with another file called **sec00.gold.tagged**. \n",
    "Section 00 of the Penn Treebank is typically used as development data."
   ]
  },
  {
   "cell_type": "markdown",
   "metadata": {},
   "source": [
    "**(a)** How many **unseen words** are present in the development data (i.e., words that have not occurred in the training data)?"
   ]
  },
  {
   "cell_type": "code",
   "execution_count": 86,
   "metadata": {
    "scrolled": false
   },
   "outputs": [
    {
     "name": "stdout",
     "output_type": "stream",
     "text": [
      "Number of unseen words: 1288\n"
     ]
    }
   ],
   "source": [
    "## YOUR CODE HERE ##\n",
    "dev_voc = Counter()\n",
    "dev_pos_tags = Counter()\n",
    "\n",
    "with open(\"sec00.gold.tagged\", \"r\") as corpus:\n",
    "    for line in corpus:\n",
    "        words = line.split(\" \")\n",
    "        for w in words:\n",
    "            split_w = w.split(\"|\")\n",
    "            if split_w[0] not in voc:\n",
    "                dev_voc[split_w[0]] += 1\n",
    "                if split_w[0] != \"\\n\":\n",
    "                    dev_pos_tags[split_w[1]] += 1\n",
    "            \n",
    "del dev_voc[\"\\n\"]\n",
    "print('Number of unseen words:', len(dev_voc))"
   ]
  },
  {
   "cell_type": "markdown",
   "metadata": {},
   "source": [
    "**(b)** What are the three **POS tag categories** that the most **unseen words** belong to?"
   ]
  },
  {
   "cell_type": "code",
   "execution_count": 88,
   "metadata": {
    "scrolled": true
   },
   "outputs": [
    {
     "name": "stdout",
     "output_type": "stream",
     "text": [
      "Three primary tags in this set: ('NNP', 815) ('JJ', 258) ('NN', 210)\n"
     ]
    }
   ],
   "source": [
    "## YOUR CODE HERE ##\n",
    "print('Three primary tags in this set:', *dev_pos_tags.most_common(3))"
   ]
  },
  {
   "cell_type": "markdown",
   "metadata": {},
   "source": [
    "# 2. Language Models\n",
    "\n",
    "This part of the lab will be covered in the Wednesday lecture. If you have prior exposure to NLP, go ahead and finish this part! If you don't, start anyway, and this part will be clear after the lecture. \n",
    "\n",
    "Reference **chapter 4** of J&M *Language Modeling with N-Grams*. \n",
    "\n",
    "----------\n",
    "\n",
    "Models that assign **probabilities** to **sequences of words** are called language **language\n",
    "modelels** or **LMs**. The simplest model that assigns probabilities to sentences and sequences of words is the **N-gram** model.\n",
    "\n",
    "Recall that an *N*-gram language model uses **conditional probabilities** of the form\n",
    "    \n",
    "$$P(w_k \\mid w_{k-N+1} \\dots w_{k-1})$$\n",
    "\n",
    "to **approximate** the full **joint probability**\n",
    "\n",
    "$$P(w_1 \\dots w_n)$$\n",
    "\n",
    "of a sequence of words $w_1 \\dots w_n$.\n",
    "\n",
    "The easiest way of obtaining estimates for the probabilities $P(w_k \\mid w_{k-N+1} \\dots w_{k-1})$ is to use the **maximum likelihood estimate** or **MLE**, a widely used statistical estimation method ([read more]((https://en.wikipedia.org/wiki/Maximum_likelihood_estimation)). You count and normalize:\n",
    "\n",
    "$$P_{MLE}(w_k \\mid w_{k-N+1} \\dots w_{k-1}) = \\frac{C(w_{k-N+1} \\dots w_{k-1} w_k)}{C(w_{k-N+1} \\dots w_{k-1})}.$$\n",
    "\n",
    "\n",
    "## Exercise 2.1 (25 points)\n",
    "\n",
    "**(a) ** Complete the function `train_ngram` so that you can train a count-based $N$-gram language model on the data found in `data/ted-train.txt` and train this for $N=2,3,4$. **15 points**\n",
    "\n",
    "**(b) ** Extend the function above so that it accepts a parameter `k` for optional add-$k$ smoothing. **10 points**\n",
    "\n",
    "**[Datastructure hint]** If you store the smoothed language in a naive manner (that is, to store *all* the numbers separately) your datastructure will get huge! If $V$ is the vocabulary then the smoothed bigram model assigns probabilities to $|V|^2$ entries. If $|V|$ is around 80k, the naive way requires you to store more than 64 billion floats. Yet almost all of these are actually just $P(w_n|w_{n-1}) = \\frac{k}{N + k|V|}$, with $k$ the value with which you smooth and $N=C(w_{n-1})$. Think about how you use this fact to make your model work in practice."
   ]
  },
  {
   "cell_type": "markdown",
   "metadata": {},
   "source": [
    "**[Python hint]** The `collections` library has another useful datastructure: the `defaultdict`. Some example uses:"
   ]
  },
  {
   "cell_type": "code",
   "execution_count": 2,
   "metadata": {},
   "outputs": [
    {
     "data": {
      "text/plain": [
       "0.0"
      ]
     },
     "execution_count": 2,
     "metadata": {},
     "output_type": "execute_result"
    }
   ],
   "source": [
    "from collections import defaultdict\n",
    "\n",
    "# d = defaultdict(float)\n",
    "# d[\"new key\"]"
   ]
  },
  {
   "cell_type": "markdown",
   "metadata": {},
   "source": [
    "Compare that to an ordinary dictionary:"
   ]
  },
  {
   "cell_type": "code",
   "execution_count": null,
   "metadata": {
    "collapsed": true
   },
   "outputs": [],
   "source": [
    "# d = dict()\n",
    "# d[\"new key\"]"
   ]
  },
  {
   "cell_type": "markdown",
   "metadata": {},
   "source": [
    "Other datatypes as `default_factory`:"
   ]
  },
  {
   "cell_type": "code",
   "execution_count": null,
   "metadata": {
    "collapsed": true
   },
   "outputs": [],
   "source": [
    "# d = defaultdict(int)\n",
    "# d[\"new key\"]"
   ]
  },
  {
   "cell_type": "code",
   "execution_count": null,
   "metadata": {
    "collapsed": true
   },
   "outputs": [],
   "source": [
    "# d = defaultdict(list)\n",
    "# d[\"new key\"]"
   ]
  },
  {
   "cell_type": "markdown",
   "metadata": {},
   "source": [
    "Converting an already existing `dict`:"
   ]
  },
  {
   "cell_type": "code",
   "execution_count": null,
   "metadata": {
    "collapsed": true
   },
   "outputs": [],
   "source": [
    "# d1 = {k: \"value\" for k in range(1, 11)}\n",
    "# d = defaultdict(float, d1) # convert it to a defaultdict\n",
    "# print(d[5])\n",
    "# print(d[100])"
   ]
  },
  {
   "cell_type": "markdown",
   "metadata": {},
   "source": [
    "This doesn't work:"
   ]
  },
  {
   "cell_type": "code",
   "execution_count": null,
   "metadata": {
    "collapsed": true
   },
   "outputs": [],
   "source": [
    "# d = defaultdict(10)"
   ]
  },
  {
   "cell_type": "markdown",
   "metadata": {},
   "source": [
    "Use a `lambda` to make the number `10` `callable`\":"
   ]
  },
  {
   "cell_type": "code",
   "execution_count": null,
   "metadata": {
    "collapsed": true
   },
   "outputs": [],
   "source": [
    "# d = defaultdict(lambda: 10)\n",
    "# d[\"new key\"]"
   ]
  },
  {
   "cell_type": "code",
   "execution_count": null,
   "metadata": {
    "collapsed": true
   },
   "outputs": [],
   "source": [
    "# d = defaultdict(lambda: defaultdict(float))\n",
    "# d[\"new key\"]"
   ]
  },
  {
   "cell_type": "markdown",
   "metadata": {},
   "source": [
    "Clever use of a `defaultdict` can be the solution to the problem of data-storing in a smoothing $N$-gram pointed out above:\n",
    "    \n",
    "    ngram = defaultdict(lambda: k/(N+kV), ngram)"
   ]
  },
  {
   "cell_type": "markdown",
   "metadata": {},
   "source": [
    "The following function is given:"
   ]
  },
  {
   "cell_type": "code",
   "execution_count": 3,
   "metadata": {
    "collapsed": true
   },
   "outputs": [],
   "source": [
    "train_file = \"ted-train.txt\"\n",
    "\n",
    "def read(fname, max_lines=np.inf):\n",
    "    \"\"\"\n",
    "    Reads in the data in fname and returns it as\n",
    "    one long list of words. Also returns a vocabulary in\n",
    "    the form of a word2index and index2word dictionary.\n",
    "    \"\"\"\n",
    "    data = []\n",
    "    # w2i will automatically keep a counter to asign to new words\n",
    "    w2i = defaultdict(lambda: len(w2i))\n",
    "    i2w = dict()\n",
    "    start = \"<s>\"\n",
    "    end = \"</s>\"\n",
    "    \n",
    "    with open(fname, \"r\", encoding=\"utf8\") as fh:\n",
    "        for k, line in enumerate(fh):\n",
    "            if k > max_lines:\n",
    "                break\n",
    "            words = line.strip().split()\n",
    "            # assign an index to each word\n",
    "            for w in words:\n",
    "                i2w[w2i[w]] = w # trick\n",
    "            \n",
    "            sent = [start] + words + [end]\n",
    "            data.append(sent)\n",
    "\n",
    "    return data, w2i, i2w"
   ]
  },
  {
   "cell_type": "code",
   "execution_count": 4,
   "metadata": {},
   "outputs": [
    {
     "name": "stdout",
     "output_type": "stream",
     "text": [
      "Reading data... Done\n",
      "Training bigram... Done\n",
      "Training smoothed bigram... Done\n",
      "Training trigram... Done\n",
      "Training smoothed trigram... Done\n"
     ]
    }
   ],
   "source": [
    "def train_ngram(data, N, k=0):\n",
    "    \"\"\"\n",
    "    Trains an n-gram language model with optional add-k smoothing\n",
    "    and additionaly returns the unigram model\n",
    "    \n",
    "    :param data: text-data as returned by read\n",
    "    :param N: (N>1) the order of the ngram e.g. N=2 gives a bigram\n",
    "    :param k: optional add-k smoothing\n",
    "    :returns: ngram and unigram\n",
    "    \"\"\"\n",
    "    # Data\n",
    "    unpacked_data = [word for sent in data for word in sent]\n",
    "    count = len(unpacked_data)\n",
    "    \n",
    "    # Vocab\n",
    "    voc = Counter(unpacked_data)\n",
    "    V = len(voc)\n",
    "    \n",
    "    # Unigram\n",
    "    norm = count + k * V # Normalization coeff for unigram\n",
    "    unigram = defaultdict(lambda k=k, norm=norm: k/norm, {w: (c+k)/norm for w, c in voc.items()})\n",
    "    \n",
    "    # N-gram\n",
    "    ngram = defaultdict(lambda: defaultdict(float))\n",
    "        \n",
    "    for sent in data:\n",
    "        for i in range(len(sent)-1):\n",
    "            seq = sent[::-1][i:i+N][::-1] # This works...\n",
    "            hist = tuple(seq[:-1]) # All up to last word\n",
    "            ngram[hist][seq[-1]] += 1\n",
    "    \n",
    "    for hist in ngram:\n",
    "        norm = sum(ngram[hist].values()) + k * V\n",
    "        ngram[hist] = defaultdict(lambda k=k, norm=norm: k/norm, {w: (c+k)/norm for w, c in ngram[hist].items()})\n",
    "    \n",
    "    print('Done')\n",
    "    return ngram, unigram\n",
    "\n",
    "try:\n",
    "    data\n",
    "except NameError:\n",
    "    read_data = True\n",
    "else:\n",
    "    read_data = False\n",
    "    \n",
    "if read_data:\n",
    "    print('Reading data... ', end='')\n",
    "    data, w2i, i2w = read(train_file)\n",
    "    print('Done')\n",
    "\n",
    "try:\n",
    "    unigram\n",
    "except NameError:\n",
    "    train = True\n",
    "else:\n",
    "    train = False\n",
    "    \n",
    "if train:\n",
    "    print('Training bigram... ', end='')\n",
    "    bigram, unigram = train_ngram(data, N=2, k=0)\n",
    "    print('Training smoothed bigram... ', end='')\n",
    "    bigram_smoothed, unigram_smoothed = train_ngram(data, N=2, k=1)\n",
    "\n",
    "    print('Training trigram... ', end='')\n",
    "    trigram, unigram = train_ngram(data, N=3, k=0)\n",
    "    print('Training smoothed trigram... ', end='')\n",
    "    trigram_smoothed, unigram_smoothed = train_ngram(data, N=3, k=1)\n",
    "    \n",
    "    print('Training quadgram... ', end='')\n",
    "    quadgram, unigram = train_ngram(data, N=4, k=0)\n",
    "#     print('Training smoothed quadgram... ', end='')\n",
    "#     quadgram_smoothed, unigram_smoothed = train_ngram(data, N=4, k=1)"
   ]
  },
  {
   "cell_type": "code",
   "execution_count": 5,
   "metadata": {},
   "outputs": [
    {
     "name": "stdout",
     "output_type": "stream",
     "text": [
      "1.0000000000000027\n"
     ]
    }
   ],
   "source": [
    "default_prob = bigram_smoothed[(\"have\", )][\"bullshitwordthatneverappears\"]\n",
    "d = bigram_smoothed[(\"have\", )]\n",
    "s = sum(d.values())\n",
    "seen = len(d.keys())\n",
    "unseen = len(Counter([word for sent in data for word in sent])) - seen\n",
    "remaining_prob = default_prob * unseen\n",
    "one = s + remaining_prob\n",
    "print(one)"
   ]
  },
  {
   "cell_type": "markdown",
   "metadata": {},
   "source": [
    "## Exercise 2.2 (5 points)\n",
    "\n",
    "You can use an *N*-gram language model to **generate text**. The higher the order *N* the better your model will be able to catch the long-range dependecies that occur in actual sentences and the better your changes are at generating sensible text. But beware: **sparsity** of language data will quickly cause your model to reproduce entire lines from your training data; in such cases only one $w_k$ was observed for the histories $w_{k-N+1}\\dots w_{k-1}$ in the entire training-set.\n",
    "\n",
    "**Complete** the function `generate_sent`. It takes a language model `lm` and an order `N` and should generate a sentence by **sampling** from the language model.\n",
    "\n",
    "**[Hint]** You can use the method of [inverse transform sampling](https://en.wikipedia.org/wiki/Inverse_transform_sampling) to generate a sample from a **categorical distribution**, $p_1\\dots p_k$ such that $p_i \\geq 0$ and $\\sum_{i=1}^k p_i = 1$, as follows:"
   ]
  },
  {
   "cell_type": "code",
   "execution_count": 6,
   "metadata": {},
   "outputs": [
    {
     "name": "stdout",
     "output_type": "stream",
     "text": [
      "1\n",
      "Counter({1: 504, 0: 220, 2: 193, 3: 83})\n"
     ]
    }
   ],
   "source": [
    "from random import random\n",
    "\n",
    "P = [0.2,0.5,0.2,0.1]\n",
    "\n",
    "def sample(P):\n",
    "    u = random() # uniformly random number between 0 and 1\n",
    "    p = 0\n",
    "    for i, p_i in enumerate(P):\n",
    "        p += p_i\n",
    "        if p > u: \n",
    "            return i # the first i s.t. p1 + ... + pi > u\n",
    "        \n",
    "\n",
    "print(sample(P))\n",
    "\n",
    "print(Counter([sample(P) for i in range(1000)])) # check to see if the law of large numbers is still true"
   ]
  },
  {
   "cell_type": "markdown",
   "metadata": {},
   "source": [
    "Inverse transform sampling in the words of Jurafsky and Martin:\n",
    "\n",
    "> Imagine all the words of the English language covering the probability space\n",
    "between 0 and 1, each word covering an interval proportional to its frequency. We\n",
    "choose a random value between 0 and 1 and print the word whose interval includes\n",
    "this chosen value.\n",
    "\n",
    "(J&M, section 4.3)"
   ]
  },
  {
   "cell_type": "code",
   "execution_count": 19,
   "metadata": {},
   "outputs": [
    {
     "name": "stdout",
     "output_type": "stream",
     "text": [
      "<s> \" At that moment , you know , Iijima discovered them yet . </s> \n",
      "\n"
     ]
    }
   ],
   "source": [
    "def generate_sent(lm, N):\n",
    "    ## YOUR CODE HERE ##\n",
    "    unigram = lm[0]\n",
    "    ngram = lm[1]\n",
    "    \n",
    "    sent = ['<s>']\n",
    "    word = ''\n",
    "    thr = 15\n",
    "    i = 0\n",
    "    \n",
    "    while word != '</s>' and i < thr:\n",
    "        hist = tuple(sent[::-1][0:N-1][::-1])\n",
    "        \n",
    "        probs = []\n",
    "        words = []\n",
    "        for u in unigram:\n",
    "            probs.append(ngram[hist][u])\n",
    "            words.append(u)\n",
    "        \n",
    "        samp = sample(probs)\n",
    "        \n",
    "        if samp == None:\n",
    "            print(\"ERR: latest history not in corpus. Try an unsmoothed corpus\")\n",
    "            return sent\n",
    "        else:\n",
    "            word = words[samp]\n",
    "            sent = sent + [word]\n",
    "            \n",
    "        i += 1\n",
    "    \n",
    "    if word != '</s>':\n",
    "        print('Threshold reached:')\n",
    "    return sent\n",
    "\n",
    "N = 3\n",
    "lm = (unigram,trigram)\n",
    "for word in generate_sent(lm, N):\n",
    "    print(word, end=' ')\n",
    "print('\\n')"
   ]
  },
  {
   "cell_type": "markdown",
   "metadata": {},
   "source": [
    "### [Optional]\n",
    "\n",
    "For how many of the histories $w_{k-N+1}\\dots w_{k-1}$ is the number of continuations $w_n$ equal to **one**? Calculate the percentage of such cases for the different orders *N*.\n",
    "\n",
    "And which history has the **most possible continuations**?"
   ]
  },
  {
   "cell_type": "code",
   "execution_count": null,
   "metadata": {
    "collapsed": true
   },
   "outputs": [],
   "source": [
    "### ANSWER ###"
   ]
  },
  {
   "cell_type": "markdown",
   "metadata": {},
   "source": [
    "## Excercise 2.3 (5 points)\n",
    "\n",
    "Let $V$ denote our vocabulary. Recall that for any $w$ in $V$ `bigram[w]` defines a conditional probability $p(v|w)$ over $v$ in $V$. In the case of an **unsmoothed bigram**, $p(v|w) = 0$ for most $v\\in V$, whereas in the **smoothed bigram** smoothing took care that $p(v|w) \\geq 0$ for *all* $v$.\n",
    "\n",
    "The function `plot_bigram_dist(word, bigram, smoothbigram, k=30)` plots shows $p(v|word)$ for the `k` words $v$. One bar shows the probabilities in `bigram` and one in `smoothbigram`. \n",
    "\n",
    "**(a)** Use this function to plot the distribution for at least two words `w` and answer the questions\n",
    "* What is the effect of smoothing on the bigram distribution of frequent words? \n",
    "* What is the effect in the case of infrequent words?\n",
    "* Explain the difference between the two based on the raw counts of `w` \n",
    "\n",
    "**(b)** Now experiment with $k$ much smaller than 1 (but greater than 0!) \n",
    "* What are the effects?\n",
    "\n",
    "\n",
    "**[Hint]** Remember that add-1 smoothing turns \n",
    "$$P(w_n\\mid w_{n-1}) = \\frac{C(w_{n-1}w_{n})}{C(w_{n-1})}$$\n",
    "into\n",
    "$$P_{add-1}(w_n\\mid w_{n-1}) = \\frac{C(w_{n-1}w_{n}) + 1}{C(w_{n-1}) + |V|}.$$\n",
    "\n",
    "What happens when $C(w_{n-1})$ is relatively big (similiar in of size as $ |V| $)? And what if $C(w_{n-1})$ is small? "
   ]
  },
  {
   "cell_type": "code",
   "execution_count": 92,
   "metadata": {
    "collapsed": true
   },
   "outputs": [],
   "source": [
    "import pandas as pd\n",
    "import seaborn as sns\n",
    "\n",
    "def plot_bigram_dist(word, bigram, smoothbigram, ax, smo, k=30):\n",
    "    d = bigram[word]\n",
    "    ds = smoothbigram[word]\n",
    "    \n",
    "    # sort the probabilities\n",
    "    d_sort = sorted(d.items(), reverse=True, key=lambda t: t[1])[0:k]\n",
    "    ds_sort = sorted(ds.items(), reverse=True, key=lambda t: t[1])[0:k]\n",
    "    \n",
    "    _, probs = zip(*d_sort)\n",
    "    \n",
    "    smooth_ws, smooth_probs = zip(*ds_sort)\n",
    "    \n",
    "    # make up for the fact that in the unsmoothed case  probs is generally less than k long\n",
    "    probs = probs + (0,) * (k-len(probs)) \n",
    "\n",
    "    w_data = pd.DataFrame({\"w\": smooth_ws * 2,\n",
    "                           \"P({}|w)\".format(word): probs + smooth_probs,\n",
    "                           \"smoothing\": [\"unsmoothed\"]*k + [\"smoothed\"]*k})\n",
    "    \n",
    "    for tick in ax.get_xticklabels():\n",
    "        tick.set_rotation(90)\n",
    "    ax.set_title('Word: ' + word[0] + ' | Smoothing: ' + str(smo))\n",
    "    g = sns.barplot(ax=ax, x=\"w\", y=\"P({}|w)\".format(word), hue=\"smoothing\",\n",
    "                    data=w_data, palette=\"Blues_d\")\n",
    "    ax.set_xlabel('')\n",
    "    "
   ]
  },
  {
   "cell_type": "code",
   "execution_count": 98,
   "metadata": {},
   "outputs": [
    {
     "name": "stderr",
     "output_type": "stream",
     "text": [
      "C:\\ProgramData\\Miniconda3\\envs\\ml1labs\\lib\\site-packages\\seaborn\\categorical.py:1508: FutureWarning: remove_na is deprecated and is a private function. Do not use.\n",
      "  stat_data = remove_na(group_data[hue_mask])\n"
     ]
    },
    {
     "data": {
      "image/png": "[encoded data removed]",
      "text/plain": [
       "<matplotlib.figure.Figure at 0xa9ecb198>"
      ]
     },
     "metadata": {},
     "output_type": "display_data"
    }
   ],
   "source": [
    "## YOUR CODE HERE ##\n",
    "smo = (1, 0.01)\n",
    "if train:\n",
    "    print('Training small k bigram... ', end='')\n",
    "    bigram_small_k, unigram_small_k = train_ngram(data, N=2, k=smo[1])\n",
    "\n",
    "train = False\n",
    "plots = (2, 2)\n",
    "fig, axes = plt.subplots(*plots, figsize=(15,15))\n",
    "plot_bigram_dist((\"I\",), bigram, bigram_smoothed, axes[0][0], smo[0], k=30)\n",
    "plot_bigram_dist((\"I\",), bigram, bigram_small_k, axes[0][1], smo[1], k=30)\n",
    "\n",
    "plot_bigram_dist((\"New\",), bigram, bigram_smoothed, axes[1][0], smo[0], k=30)\n",
    "plot_bigram_dist((\"New\",), bigram, bigram_small_k, axes[1][1], smo[1], k=30)"
   ]
  },
  {
   "cell_type": "markdown",
   "metadata": {},
   "source": [
    "- Q: What is the effect of smoothing on the bigram distribution of frequent words?\n",
    "- A: The probability decreases proportional to the smoothing parameter.\n",
    "\n",
    "\n",
    "- Q: What is the effect in the case of infrequent words?\n",
    "- A: The probability decreases *more* compared to frequent words when we do smoothing.\n",
    "\n",
    "\n",
    "- Q: Explain the difference between the two based on the raw counts of w\n",
    "- A: Smoothing is more extreme when we perform it on words that appear only in specific contexts within the corpus (i.e. with only a few $C(w_{n-1}) > 0$). Comparing both formulas, if the raw count of the $C(w_{n-1})\\ll |V|$ word (e.g. 'New': 1194) is *low*, add-one smoothing will be more pronounced compared to a high count $C(w_{n-1})\\approx |V|$ (e.g. 'I': 81473).\n",
    "\n",
    "\n",
    "- Q: What are the effects with k much smaller than 1?\n",
    "- A: It doesn't change the probabilities as much as larger k."
   ]
  },
  {
   "cell_type": "markdown",
   "metadata": {},
   "source": [
    "\n",
    "**Recall** that if we have a sentence $w_1,\\dots,w_n$ we can write\n",
    "\n",
    "$$P(w_1\\dots w_n) = P(w_1)P(w_2|w_1) \\cdots P(w_i|w_1 \\dots w_{n-1}) \\approx P(w_1)P(w_2|w_1)\\cdots P(w_{N-1}|w_1\\dots w_{N-2})\\prod_{i=N}^{n} P(w_i|w_{i-(N-1)}\\dots w_{i-1})$$\n",
    "\n",
    "where in the last step we make an $N$-gram approximation of the full conditionals.\n",
    "\n",
    "For example, in the case of a bigram (N=2), the above expression reduces to\n",
    "\n",
    "$$P(w_1 \\dots w_n)\\approx P(w_1)\\prod_{i=2}^{n} P(w_i| w_{i-1}).$$\n",
    "\n",
    "## Exercise 2.4 (5 points)\n",
    "\n",
    "The following sentences are taken from the **training data**. Use your **unsmoothed unigram**, **bigram**, and **trigram** language model to estimate their **probabilities**:\n",
    "\n",
    "    1. Every day was about creating something new .\n",
    "    2. In this machine , a beam of protons and anti-protons are accelerated to near the speed of light and brought \n",
    "       together in a collision , producing a burst of pure energy .\n",
    "\n",
    "**Repeat** this with the **smoothed (add-1)** versions of the N-grams. What is the effect of smoothing on the probabilities?\n"
   ]
  },
  {
   "cell_type": "code",
   "execution_count": 117,
   "metadata": {},
   "outputs": [
    {
     "name": "stdout",
     "output_type": "stream",
     "text": [
      "Unigram probability: 0.0\n",
      "Bigram probability: 0.0\n",
      "Trigram probability: 0.0\n",
      "Smoothed Unigram probability: 9.624767333687559e-297\n",
      "Smoothed Bigram probability: 0.0\n",
      "Smoothed Trigram probability: 0.0\n",
      "Unigram probability: 0.0\n",
      "Bigram probability: 0.0\n",
      "Trigram probability: 0.0\n",
      "Smoothed Unigram probability: 9.624767333687559e-297\n",
      "Smoothed Bigram probability: 0.0\n",
      "Smoothed Trigram probability: 0.0\n"
     ]
    }
   ],
   "source": [
    "## YOUR CODE HERE ##\n",
    "\n",
    "sents = (\"<s> Every day was about creating something new . </s>\", \"<s> In this machine , a beam of protons and anti-protons are accelerated to near the speed of light and brought together in a collision , producing a burst of pure energy . </s>\")\n",
    "\n",
    "def calculate_prob(sent, model, N):\n",
    "    prob = 1.0\n",
    "    \n",
    "    if N > 1:\n",
    "        for i in range(len(sent)-1):\n",
    "            seq = sent[::-1][i:i+N][::-1] # This works...\n",
    "            hist = tuple(seq[:-1]) # All up to last word\n",
    "            prob *= model[hist][seq[-1]]\n",
    "    else:\n",
    "        for i in range(len(sent)):\n",
    "            word = sent[i]\n",
    "            prob *= model[word]\n",
    "            \n",
    "    return prob\n",
    "\n",
    "models = (unigram, bigram, trigram, unigram_smoothed, bigram_smoothed, trigram_smoothed)\n",
    "Ns = (1, 2, 3, 1, 2, 3)\n",
    "probs = []\n",
    "\n",
    "for s in sents:\n",
    "    for i in range(len(Ns)):\n",
    "        probs.append(calculate_prob(s, models[i], Ns[i]))\n",
    "    \n",
    "    print(\"Unigram probability: \" + str(probs[0]) + \"\\nBigram probability: \" + str(probs[1]) + \"\\nTrigram probability: \" + str(probs[2]) + \"\\nSmoothed Unigram probability: \" + str(probs[3]) + \"\\nSmoothed Bigram probability: \" + str(probs[4]) + \"\\nSmoothed Trigram probability: \" + str(probs[5]))"
   ]
  },
  {
   "cell_type": "markdown",
   "metadata": {},
   "source": [
    "YOUR ANSWERS HERE"
   ]
  },
  {
   "cell_type": "markdown",
   "metadata": {},
   "source": [
    "## Exercise 2.5 (5 points)\n",
    "\n",
    "The above sentences were taken from the training set, hence they will all have probability greater than 0. The big challenge for our language model are of course with sentence that contain unseen N-grams: if such an N-gram occurs our model immediately assigns the sentence probability zero.\n",
    "\n",
    "The following three senteces are taken from the **test set** availlable in the file **ted-test.txt**. What probabilities do your smoothed and unsmoothed language models asign in this case?\n",
    "\n",
    "    1. Because these robots are really safe .\n",
    "    2. We have sheer nothingness on one side , and we have this vision of a reality that encompasses every \n",
    "       conceivable world at the other extreme : the fullest possible reality , nothingness , the simplest possible \n",
    "       reality ."
   ]
  },
  {
   "cell_type": "code",
   "execution_count": 29,
   "metadata": {},
   "outputs": [
    {
     "name": "stdout",
     "output_type": "stream",
     "text": [
      "(7.533411199081187e-23, 2.6913665324688018e-15, 0.0, 6.787240900670031e-23, 7.259172702960281e-24, 0.0)\n",
      "(7.800101977196022e-119, 0.0, 0.0, 7.715620113034712e-119, 1.050158700443956e-126, 0.0)\n"
     ]
    }
   ],
   "source": [
    "### YOUR CODE HERE ###\n",
    "sent_test1 = \"<s> Because these robots are really safe . </s>\" \n",
    "sent_test2 = \"<s> We have sheer nothingness on one side , and we have this vision of a reality that encompasses every conceivable world at the other extreme : the fullest possible reality , nothingness , the simplest possible reality . </s>\"\n",
    "\n",
    "test1 = sent_test1.split()\n",
    "test2 = sent_test2.split()\n",
    "\n",
    "''' UNSEEN HISTORIES FOR TRIGRAM\n",
    "('have', 'sheer') nothingness\n",
    "('nothingness', 'on') one\n",
    "('conceivable', 'world') at\n",
    "('extreme', ':') the\n",
    "'''\n",
    "print(sent_test1)\n",
    "print(calculate_prob(test1))\n",
    "print()\n",
    "print(sent_test2)\n",
    "print(calculate_prob(test2))"
   ]
  },
  {
   "cell_type": "markdown",
   "metadata": {},
   "source": [
    "YOUR ANSWERS HERE"
   ]
  },
  {
   "cell_type": "markdown",
   "metadata": {},
   "source": [
    "### [Optional]\n",
    "\n",
    "**Optional** What percentage of the sentences in the test set get assigned probability 0 under your smoothed and unsmoothed language models? "
   ]
  },
  {
   "cell_type": "code",
   "execution_count": null,
   "metadata": {
    "collapsed": true
   },
   "outputs": [],
   "source": [
    "### ANSWER HERE ###"
   ]
  },
  {
   "cell_type": "markdown",
   "metadata": {},
   "source": [
    "## Exercise 2.6 (5 points)\n",
    "\n",
    "**Perplexity** is very frequently used **metric** for evaluating probabilistic models such as language models. The perplexity (sometimes called **PP** for short) of a language model on a sentence is the **inverse probability** of the sentence, **normalized** by the number of words:\n",
    "\n",
    "$$PP(w_1 \\dots w_n) = P(w_1\\dots w_n)^{-\\frac{1}{n}}.$$\n",
    "\n",
    "Here we can again approximate $P(w_1 \\dots w_n)$ with N-gram probabilities, as above.\n",
    "Note: $(x_1\\cdots x_n)^{-\\frac{1}{n}}$ is the **geometric mean** of the numbers $x_1,\\dots,x_n$. It is like the (regular) artithmetic mean, but with **products** instead of **sums**. The geometric mean is a more natural choice in the case of *PP* because behind $P(w_1\\dots w_n)$ is a series of $n$ products ([more here](https://en.wikipedia.org/wiki/Geometric_mean)).\n",
    "\n",
    "\n",
    "\n",
    "Compute the perplexity of the training sentences from excercise 2.1. What big difference between the **probabilities** of the sentences and the **perplexities** of the sentences do you notice?"
   ]
  },
  {
   "cell_type": "code",
   "execution_count": 30,
   "metadata": {},
   "outputs": [
    {
     "ename": "ZeroDivisionError",
     "evalue": "0.0 cannot be raised to a negative power",
     "output_type": "error",
     "traceback": [
      "\u001b[1;31m---------------------------------------------------------------------------\u001b[0m",
      "\u001b[1;31mZeroDivisionError\u001b[0m                         Traceback (most recent call last)",
      "\u001b[1;32m<ipython-input-30-849240099d1c>\u001b[0m in \u001b[0;36m<module>\u001b[1;34m()\u001b[0m\n\u001b[0;32m      8\u001b[0m     \u001b[1;32mreturn\u001b[0m \u001b[0mprob_uni_smoothed\u001b[0m\u001b[1;33m**\u001b[0m\u001b[0mnormalizer\u001b[0m\u001b[1;33m,\u001b[0m \u001b[0mprob_bi_smoothed\u001b[0m\u001b[1;33m**\u001b[0m\u001b[0mnormalizer\u001b[0m\u001b[1;33m,\u001b[0m \u001b[0mprob_tri_smoothed\u001b[0m\u001b[1;33m**\u001b[0m\u001b[0mnormalizer\u001b[0m\u001b[1;33m\u001b[0m\u001b[0m\n\u001b[0;32m      9\u001b[0m \u001b[1;33m\u001b[0m\u001b[0m\n\u001b[1;32m---> 10\u001b[1;33m \u001b[0mprint\u001b[0m\u001b[1;33m(\u001b[0m\u001b[0mcalculate_perplexity\u001b[0m\u001b[1;33m(\u001b[0m\u001b[0ms1\u001b[0m\u001b[1;33m)\u001b[0m\u001b[1;33m)\u001b[0m\u001b[1;33m\u001b[0m\u001b[0m\n\u001b[0m\u001b[0;32m     11\u001b[0m \u001b[1;31m#s2 has 0 division\u001b[0m\u001b[1;33m\u001b[0m\u001b[1;33m\u001b[0m\u001b[0m\n\u001b[0;32m     12\u001b[0m \u001b[1;31m#print(calculate_perplexity(s2))\u001b[0m\u001b[1;33m\u001b[0m\u001b[1;33m\u001b[0m\u001b[0m\n",
      "\u001b[1;32m<ipython-input-30-849240099d1c>\u001b[0m in \u001b[0;36mcalculate_perplexity\u001b[1;34m(sentence)\u001b[0m\n\u001b[0;32m      6\u001b[0m     \u001b[1;31m#prob_uni**normalizer, prob_bi**normalizer, prob_tri**normalizer\u001b[0m\u001b[1;33m\u001b[0m\u001b[1;33m\u001b[0m\u001b[0m\n\u001b[0;32m      7\u001b[0m     \u001b[1;31m#0 cannot have - power, 0 division\u001b[0m\u001b[1;33m\u001b[0m\u001b[1;33m\u001b[0m\u001b[0m\n\u001b[1;32m----> 8\u001b[1;33m     \u001b[1;32mreturn\u001b[0m \u001b[0mprob_uni_smoothed\u001b[0m\u001b[1;33m**\u001b[0m\u001b[0mnormalizer\u001b[0m\u001b[1;33m,\u001b[0m \u001b[0mprob_bi_smoothed\u001b[0m\u001b[1;33m**\u001b[0m\u001b[0mnormalizer\u001b[0m\u001b[1;33m,\u001b[0m \u001b[0mprob_tri_smoothed\u001b[0m\u001b[1;33m**\u001b[0m\u001b[0mnormalizer\u001b[0m\u001b[1;33m\u001b[0m\u001b[0m\n\u001b[0m\u001b[0;32m      9\u001b[0m \u001b[1;33m\u001b[0m\u001b[0m\n\u001b[0;32m     10\u001b[0m \u001b[0mprint\u001b[0m\u001b[1;33m(\u001b[0m\u001b[0mcalculate_perplexity\u001b[0m\u001b[1;33m(\u001b[0m\u001b[0ms1\u001b[0m\u001b[1;33m)\u001b[0m\u001b[1;33m)\u001b[0m\u001b[1;33m\u001b[0m\u001b[0m\n",
      "\u001b[1;31mZeroDivisionError\u001b[0m: 0.0 cannot be raised to a negative power"
     ]
    }
   ],
   "source": [
    "### YOUR CODE HERE ###\n",
    "def calculate_perplexity(sentence):\n",
    "    prob_uni, prob_bi, prob_tri, prob_uni_smoothed, prob_bi_smoothed, prob_tri_smoothed = calculate_prob(sentence)\n",
    "  \n",
    "    normalizer = -1/len(sentence)\n",
    "    #prob_uni**normalizer, prob_bi**normalizer, prob_tri**normalizer\n",
    "    #0 cannot have - power, 0 division\n",
    "    return prob_uni_smoothed**normalizer, prob_bi_smoothed**normalizer, prob_tri_smoothed**normalizer\n",
    "\n",
    "print(calculate_perplexity(s1))\n",
    "#s2 has 0 division\n",
    "#print(calculate_perplexity(s2))"
   ]
  },
  {
   "cell_type": "markdown",
   "metadata": {},
   "source": [
    "YOUR ANSWER HERE"
   ]
  },
  {
   "cell_type": "markdown",
   "metadata": {},
   "source": [
    "# That's it!\n",
    "\n",
    "Congratulations, you have made it to the end of the tutorial. Here we will recap the gist of this notebook. \n",
    "\n",
    "**Make sure all your cells can be executed and all your answers are there. Then, read on if you're interested!**\n",
    "\n",
    "-----\n",
    "\n",
    "By now you should have a solid feeling for the problem of **sparsity in language data**; there's just never enough data. For the task of language modelling, we saw that sparsity is a serious challenge. \n",
    "\n",
    "It would be great to be able to model $p(w_n|w_1 \\dots w_{n-1})$ for unlimited $n$: the larger $n$ the better our language model should become at capturing the long-range dependencies between words that characterize actual human sentences, and the more probability our model will asign to such sentences as opposed to sentences that are word-soup. But in the N-gram approach, increasing $n$ will quickly kill all generalizing abilities of the model: the model will start to asign probabilities only to sentences it has seen in the training data.\n",
    "\n",
    "So, where to go from here? Here are three directions that we could head in.\n",
    "\n",
    "### Smoothing\n",
    "\n",
    "We have seen one example of smoothing in this lab: add-k smoothing. This is an easy method, both conceptually and implementation-wise. But the results are not great, and the effects it has on the distributions can be extreme.\n",
    "\n",
    "A much more sophisticated method of smoothing is so-called **Kneser-Ney smoothing**. The method is described in detail in section 4.5 of J&M (3rd edition). This is one of the best performing N-gram smoothing methods, and up to a few years ago a popular implementation of it called [KenLM](https://kheafield.com/code/kenlm/) gave state of the art results.\n",
    "\n",
    "### From words to characters\n",
    "\n",
    "In this lab we have considered language modeling as the task of predicting a **word** $w_n$ based on a history of **words** $w_1\\cdots w_n$. What if instead we let our basic units of modelling be **characters**? The task then becomes to model $p(c_k\\mid c_{k-N-1}\\dots c_{k-1})$ where each $c_i$ is now an ASCII character instead of an entire word.\n",
    "\n",
    "Suddenly sparsity of data is no longer a problem! The set of characters to use is tiny (< 100) compared to even a small-sized vocabulary as today. Have a look at this very illustrative notebook written by Yoav Golberg to see such a method in action: [The unreasonable effectiveness of Character-level Language Models](http://nbviewer.jupyter.org/gist/yoavg/d76121dfde2618422139).\n",
    "\n",
    "(So what is the downside?)\n",
    "\n",
    "\n",
    "### Neural language models\n",
    "\n",
    "The above notebook was actually written as a response to this blog post by Andrej Karpathy: [The Unreasonable Effectiveness of Recurrent Neural Networks](http://karpathy.github.io/2015/05/21/rnn-effectiveness/). Go ahead and read it if you haven't already: it is a superb introduction to the topic of Recurrent Neural Networks.\n",
    "\n",
    "Neural language models solve the problem of data sparsity in a different manner. Instead of estimating the probabilities $p(w_k\\mid w_{k-N-1}\\dots w_{k-1})$ by counting occurences in the data, they use a neural network $f_{\\theta}$ parametrized by parameters $\\theta$ to predict this probability. The parameters $\\theta$ are learned through optimization. \n",
    "\n",
    "The simplest approach goes like this: each word in the history $w_{k-N-1}\\dots w_{k-1}$ is embedded separately giving  vectors $e_{k-N-1}\\dots e_{k-1}$ and then concatenated into one long vectors $[e_{k-N-1};\\dots ;e_{k-1}]$. The network then uses this history vector to predict a probability distribution over words $w$ in the vocabulary $V$:\n",
    "\n",
    "$$p(w \\mid w_{k-N-1}\\dots w_{k-1}) = f_{\\theta}([e_{k-N-1};\\dots;e_{k-1}]).$$\n",
    "\n",
    "(In order to produce legitimate probabilities the final layer of such a network will be for example a $softmax$.)\n",
    "\n",
    "This provides a solution to the sparsity problem by having the network let the individual embeddings of the words in the history interact through its non-linear transforamtion. We are letting the network figure out the smoothing itself!\n",
    "\n",
    "RNNs are a clever extension of this idea, where a hidden state vector $h$ is re-used and updated at each step $k$ in order to store the information of the entire history up to step $k-1$. That is, an RNN actually does away with the N-order approximation; it tries to model the full conditional directly! That means that\n",
    "\n",
    "$$p(w \\mid w_1\\dots w_{k-1}) \\approx RNN_{\\theta}([e_{k-1};h_{k-1}])$$\n",
    "\n",
    "where the hidden state $h_{k-1}$ is a compression of the *entire history* $w_1\\dots w_{k-1}$.\n",
    "\n",
    "Another great place to learn about RNNs, their problems, and solutions to those, is on the blog of [Christopher Olah](http://colah.github.io/posts/2015-08-Understanding-LSTMs/). The project on language modelling will involve learning more about these methods. \n",
    "\n",
    "-----------\n",
    "(And now, it's time to read the classic essay by Eugene Wigner that gave both of the posts their title: [The Unreasonable Effectiveness of Mathematics in the Natural Sciences](http://www.dartmouth.edu/~matc/MathDrama/reading/Wigner.html))"
   ]
  }
 ],
 "metadata": {
  "anaconda-cloud": {},
  "kernelspec": {
   "display_name": "Python 3",
   "language": "python",
   "name": "python3"
  },
  "language_info": {
   "codemirror_mode": {
    "name": "ipython",
    "version": 3
   },
   "file_extension": ".py",
   "mimetype": "text/x-python",
   "name": "python",
   "nbconvert_exporter": "python",
   "pygments_lexer": "ipython3",
   "version": "3.5.4"
  }
 },
 "nbformat": 4,
 "nbformat_minor": 1
}
